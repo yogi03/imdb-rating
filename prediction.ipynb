{
 "cells": [
  {
   "cell_type": "code",
   "execution_count": 1,
   "id": "ed28b743",
   "metadata": {},
   "outputs": [],
   "source": [
    "# Step 1: Import Libraries and Load the Model\n",
    "import numpy as np\n",
    "import tensorflow as tf\n",
    "from tensorflow.keras.datasets import imdb\n",
    "from tensorflow.keras.preprocessing import sequence\n",
    "from tensorflow.keras.models import load_model"
   ]
  },
  {
   "cell_type": "code",
   "execution_count": 2,
   "id": "e1d88501",
   "metadata": {},
   "outputs": [],
   "source": [
    "# Load the IMDB dataset word index\n",
    "\n",
    "word_index = imdb.get_word_index()\n",
    "reverse_word_index = {value: key for key, value in word_index.items()}"
   ]
  },
  {
   "cell_type": "code",
   "execution_count": 3,
   "id": "6d46de32",
   "metadata": {},
   "outputs": [
    {
     "name": "stderr",
     "output_type": "stream",
     "text": [
      "WARNING:absl:Compiled the loaded model, but the compiled metrics have yet to be built. `model.compile_metrics` will be empty until you train or evaluate the model.\n"
     ]
    },
    {
     "data": {
      "text/html": [
       "<pre style=\"white-space:pre;overflow-x:auto;line-height:normal;font-family:Menlo,'DejaVu Sans Mono',consolas,'Courier New',monospace\"><span style=\"font-weight: bold\">Model: \"sequential\"</span>\n",
       "</pre>\n"
      ],
      "text/plain": [
       "\u001b[1mModel: \"sequential\"\u001b[0m\n"
      ]
     },
     "metadata": {},
     "output_type": "display_data"
    },
    {
     "data": {
      "text/html": [
       "<pre style=\"white-space:pre;overflow-x:auto;line-height:normal;font-family:Menlo,'DejaVu Sans Mono',consolas,'Courier New',monospace\">┏━━━━━━━━━━━━━━━━━━━━━━━━━━━━━━━━━┳━━━━━━━━━━━━━━━━━━━━━━━━┳━━━━━━━━━━━━━━━┓\n",
       "┃<span style=\"font-weight: bold\"> Layer (type)                    </span>┃<span style=\"font-weight: bold\"> Output Shape           </span>┃<span style=\"font-weight: bold\">       Param # </span>┃\n",
       "┡━━━━━━━━━━━━━━━━━━━━━━━━━━━━━━━━━╇━━━━━━━━━━━━━━━━━━━━━━━━╇━━━━━━━━━━━━━━━┩\n",
       "│ embedding (<span style=\"color: #0087ff; text-decoration-color: #0087ff\">Embedding</span>)           │ (<span style=\"color: #00af00; text-decoration-color: #00af00\">32</span>, <span style=\"color: #00af00; text-decoration-color: #00af00\">500</span>, <span style=\"color: #00af00; text-decoration-color: #00af00\">128</span>)         │     <span style=\"color: #00af00; text-decoration-color: #00af00\">1,280,000</span> │\n",
       "├─────────────────────────────────┼────────────────────────┼───────────────┤\n",
       "│ simple_rnn (<span style=\"color: #0087ff; text-decoration-color: #0087ff\">SimpleRNN</span>)          │ (<span style=\"color: #00af00; text-decoration-color: #00af00\">32</span>, <span style=\"color: #00af00; text-decoration-color: #00af00\">128</span>)              │        <span style=\"color: #00af00; text-decoration-color: #00af00\">32,896</span> │\n",
       "├─────────────────────────────────┼────────────────────────┼───────────────┤\n",
       "│ dense (<span style=\"color: #0087ff; text-decoration-color: #0087ff\">Dense</span>)                   │ (<span style=\"color: #00af00; text-decoration-color: #00af00\">32</span>, <span style=\"color: #00af00; text-decoration-color: #00af00\">1</span>)                │           <span style=\"color: #00af00; text-decoration-color: #00af00\">129</span> │\n",
       "└─────────────────────────────────┴────────────────────────┴───────────────┘\n",
       "</pre>\n"
      ],
      "text/plain": [
       "┏━━━━━━━━━━━━━━━━━━━━━━━━━━━━━━━━━┳━━━━━━━━━━━━━━━━━━━━━━━━┳━━━━━━━━━━━━━━━┓\n",
       "┃\u001b[1m \u001b[0m\u001b[1mLayer (type)                   \u001b[0m\u001b[1m \u001b[0m┃\u001b[1m \u001b[0m\u001b[1mOutput Shape          \u001b[0m\u001b[1m \u001b[0m┃\u001b[1m \u001b[0m\u001b[1m      Param #\u001b[0m\u001b[1m \u001b[0m┃\n",
       "┡━━━━━━━━━━━━━━━━━━━━━━━━━━━━━━━━━╇━━━━━━━━━━━━━━━━━━━━━━━━╇━━━━━━━━━━━━━━━┩\n",
       "│ embedding (\u001b[38;5;33mEmbedding\u001b[0m)           │ (\u001b[38;5;34m32\u001b[0m, \u001b[38;5;34m500\u001b[0m, \u001b[38;5;34m128\u001b[0m)         │     \u001b[38;5;34m1,280,000\u001b[0m │\n",
       "├─────────────────────────────────┼────────────────────────┼───────────────┤\n",
       "│ simple_rnn (\u001b[38;5;33mSimpleRNN\u001b[0m)          │ (\u001b[38;5;34m32\u001b[0m, \u001b[38;5;34m128\u001b[0m)              │        \u001b[38;5;34m32,896\u001b[0m │\n",
       "├─────────────────────────────────┼────────────────────────┼───────────────┤\n",
       "│ dense (\u001b[38;5;33mDense\u001b[0m)                   │ (\u001b[38;5;34m32\u001b[0m, \u001b[38;5;34m1\u001b[0m)                │           \u001b[38;5;34m129\u001b[0m │\n",
       "└─────────────────────────────────┴────────────────────────┴───────────────┘\n"
      ]
     },
     "metadata": {},
     "output_type": "display_data"
    },
    {
     "data": {
      "text/html": [
       "<pre style=\"white-space:pre;overflow-x:auto;line-height:normal;font-family:Menlo,'DejaVu Sans Mono',consolas,'Courier New',monospace\"><span style=\"font-weight: bold\"> Total params: </span><span style=\"color: #00af00; text-decoration-color: #00af00\">1,313,027</span> (5.01 MB)\n",
       "</pre>\n"
      ],
      "text/plain": [
       "\u001b[1m Total params: \u001b[0m\u001b[38;5;34m1,313,027\u001b[0m (5.01 MB)\n"
      ]
     },
     "metadata": {},
     "output_type": "display_data"
    },
    {
     "data": {
      "text/html": [
       "<pre style=\"white-space:pre;overflow-x:auto;line-height:normal;font-family:Menlo,'DejaVu Sans Mono',consolas,'Courier New',monospace\"><span style=\"font-weight: bold\"> Trainable params: </span><span style=\"color: #00af00; text-decoration-color: #00af00\">1,313,025</span> (5.01 MB)\n",
       "</pre>\n"
      ],
      "text/plain": [
       "\u001b[1m Trainable params: \u001b[0m\u001b[38;5;34m1,313,025\u001b[0m (5.01 MB)\n"
      ]
     },
     "metadata": {},
     "output_type": "display_data"
    },
    {
     "data": {
      "text/html": [
       "<pre style=\"white-space:pre;overflow-x:auto;line-height:normal;font-family:Menlo,'DejaVu Sans Mono',consolas,'Courier New',monospace\"><span style=\"font-weight: bold\"> Non-trainable params: </span><span style=\"color: #00af00; text-decoration-color: #00af00\">0</span> (0.00 B)\n",
       "</pre>\n"
      ],
      "text/plain": [
       "\u001b[1m Non-trainable params: \u001b[0m\u001b[38;5;34m0\u001b[0m (0.00 B)\n"
      ]
     },
     "metadata": {},
     "output_type": "display_data"
    },
    {
     "data": {
      "text/html": [
       "<pre style=\"white-space:pre;overflow-x:auto;line-height:normal;font-family:Menlo,'DejaVu Sans Mono',consolas,'Courier New',monospace\"><span style=\"font-weight: bold\"> Optimizer params: </span><span style=\"color: #00af00; text-decoration-color: #00af00\">2</span> (12.00 B)\n",
       "</pre>\n"
      ],
      "text/plain": [
       "\u001b[1m Optimizer params: \u001b[0m\u001b[38;5;34m2\u001b[0m (12.00 B)\n"
      ]
     },
     "metadata": {},
     "output_type": "display_data"
    }
   ],
   "source": [
    "# Load the pre-trained model with ReLU activation\n",
    "model = load_model('simple_rnn_imdb.h5')\n",
    "model.summary()"
   ]
  },
  {
   "cell_type": "code",
   "execution_count": 4,
   "id": "ff2b9c96",
   "metadata": {},
   "outputs": [
    {
     "data": {
      "text/plain": [
       "[array([[-1.0798137e+00,  9.4068605e-01, -1.0510654e+00, ...,\n",
       "          1.3222662e+00,  1.2296028e+00,  1.0610199e+00],\n",
       "        [ 3.9806228e-02, -7.5465906e-03, -6.0004916e-02, ...,\n",
       "          7.1471840e-02,  3.0068316e-02,  4.1735612e-02],\n",
       "        [ 5.9060346e-02, -1.1364555e-01,  9.2803858e-02, ...,\n",
       "         -1.3246256e-01, -7.5099766e-02, -1.3223492e-01],\n",
       "        ...,\n",
       "        [-1.3868140e-01, -5.4092286e-04, -5.7902075e-02, ...,\n",
       "          8.6752199e-02, -9.4576720e-03,  1.4540976e-01],\n",
       "        [ 6.7624621e-02, -6.0766242e-03,  2.2719640e-02, ...,\n",
       "         -3.7313130e-02,  8.2334332e-02,  1.9272752e-02],\n",
       "        [-2.0968349e-01,  1.6307172e-01, -1.5496673e-01, ...,\n",
       "          1.4625035e-01,  9.4004855e-02,  1.7792572e-01]], dtype=float32),\n",
       " array([[ 0.10563961,  0.12195346,  0.14130491, ...,  0.09095106,\n",
       "          0.02407496, -0.09183631],\n",
       "        [ 0.15869218,  0.05895338,  0.07232689, ...,  0.13213979,\n",
       "          0.09685981, -0.13934435],\n",
       "        [-0.0816262 , -0.06139876,  0.05664607, ..., -0.01728243,\n",
       "          0.08510233,  0.02376083],\n",
       "        ...,\n",
       "        [ 0.12699477, -0.15720241,  0.0756435 , ..., -0.03861026,\n",
       "          0.17719512,  0.06680243],\n",
       "        [-0.03277601,  0.02760103,  0.08470619, ..., -0.08367738,\n",
       "          0.06092318,  0.09139879],\n",
       "        [-0.09040532, -0.1595186 , -0.18101858, ...,  0.11530706,\n",
       "          0.11906593, -0.20657195]], dtype=float32),\n",
       " array([[-0.04404197,  0.04067519,  0.17447944, ..., -0.06759913,\n",
       "         -0.22021155, -0.1445268 ],\n",
       "        [-0.01970629,  0.1795465 ,  0.02740198, ..., -0.01449646,\n",
       "          0.11258297,  0.0007398 ],\n",
       "        [-0.02946284, -0.10323051,  0.19412921, ...,  0.06869994,\n",
       "         -0.25767234,  0.00671988],\n",
       "        ...,\n",
       "        [-0.00745041,  0.05824204,  0.02872283, ...,  0.03036491,\n",
       "         -0.03052862, -0.10317104],\n",
       "        [-0.11395441, -0.01504481,  0.18604107, ...,  0.04688142,\n",
       "          0.02818633, -0.04364287],\n",
       "        [-0.03803287,  0.04094385,  0.09560852, ..., -0.12078095,\n",
       "          0.00351052, -0.08953885]], dtype=float32),\n",
       " array([-0.01972484, -0.00820838,  0.06212439,  0.04194068, -0.04034943,\n",
       "         0.00953835, -0.00816099, -0.01061282, -0.03113057, -0.00954622,\n",
       "        -0.00465043, -0.02631202,  0.05018833, -0.05369488,  0.01009233,\n",
       "         0.02833872, -0.05240382,  0.02229362, -0.01600883, -0.0333249 ,\n",
       "        -0.02824469, -0.06315081,  0.03691923,  0.00175814,  0.0586369 ,\n",
       "         0.06151359, -0.00226515, -0.00597307, -0.03838323, -0.00568326,\n",
       "        -0.00587205, -0.02007463, -0.03026727,  0.02639073, -0.00069218,\n",
       "         0.04079092, -0.02482441, -0.02623356, -0.04270675, -0.04285819,\n",
       "        -0.01026639, -0.00281875,  0.0022825 ,  0.01626896,  0.00457096,\n",
       "         0.02972459, -0.03468838, -0.02595765,  0.02287762, -0.03657094,\n",
       "        -0.04099746, -0.00363013, -0.00755021, -0.02124712,  0.01700875,\n",
       "        -0.00180475, -0.03169082,  0.07356847, -0.03466716,  0.05432669,\n",
       "        -0.00462319, -0.02974509, -0.00740627,  0.01709515, -0.04163293,\n",
       "         0.01096602, -0.04119253, -0.04392457, -0.02012479,  0.01493071,\n",
       "        -0.00479394, -0.00648694, -0.00696282,  0.05184143, -0.02595824,\n",
       "        -0.05006261, -0.02713039, -0.02398056, -0.02279464, -0.04082938,\n",
       "        -0.05270259,  0.00890084,  0.02311769,  0.03782734, -0.00843476,\n",
       "        -0.05330127,  0.02510845, -0.01922387,  0.02618657,  0.03037658,\n",
       "        -0.01339886, -0.01064248, -0.00170572, -0.0031849 ,  0.06210297,\n",
       "         0.04709442, -0.04180862, -0.01457972, -0.01571775, -0.02486637,\n",
       "        -0.01065319, -0.05439876, -0.00833032,  0.06188997,  0.06960068,\n",
       "        -0.03047377,  0.00215072, -0.0034747 , -0.03251331, -0.00491802,\n",
       "        -0.04209623, -0.02214417, -0.03500933, -0.02877354, -0.0234947 ,\n",
       "        -0.03628211, -0.03920088, -0.01052011, -0.03532213,  0.00450959,\n",
       "        -0.00626403, -0.02395822, -0.03283786,  0.00133501, -0.02598442,\n",
       "         0.01408807, -0.02450405,  0.01654338], dtype=float32),\n",
       " array([[ 0.27585012],\n",
       "        [-0.6774593 ],\n",
       "        [ 0.27286515],\n",
       "        [-0.21173304],\n",
       "        [-0.04878662],\n",
       "        [ 0.17516266],\n",
       "        [ 0.16862012],\n",
       "        [ 0.14577198],\n",
       "        [ 0.1278122 ],\n",
       "        [-0.03226617],\n",
       "        [ 0.0728112 ],\n",
       "        [-0.7156543 ],\n",
       "        [-0.05273176],\n",
       "        [ 0.19850688],\n",
       "        [ 0.06465837],\n",
       "        [ 0.27243495],\n",
       "        [ 0.00513496],\n",
       "        [-0.24855624],\n",
       "        [ 0.22579236],\n",
       "        [ 0.03646644],\n",
       "        [ 0.04256466],\n",
       "        [ 0.20027076],\n",
       "        [-0.19344775],\n",
       "        [-0.13079844],\n",
       "        [-0.03189103],\n",
       "        [ 0.10838303],\n",
       "        [ 0.1442985 ],\n",
       "        [ 0.02468529],\n",
       "        [ 0.0642388 ],\n",
       "        [-0.1682072 ],\n",
       "        [ 0.12387009],\n",
       "        [ 0.09564912],\n",
       "        [ 0.15241747],\n",
       "        [-0.18545337],\n",
       "        [-0.1091894 ],\n",
       "        [-0.10530139],\n",
       "        [-0.01202197],\n",
       "        [ 0.04936054],\n",
       "        [-0.09801993],\n",
       "        [ 0.00518427],\n",
       "        [-0.12203091],\n",
       "        [ 0.13744089],\n",
       "        [ 0.10488078],\n",
       "        [-0.3651893 ],\n",
       "        [ 0.3563547 ],\n",
       "        [ 0.07134338],\n",
       "        [-0.04863987],\n",
       "        [ 0.21058823],\n",
       "        [ 0.18678616],\n",
       "        [-0.20349915],\n",
       "        [ 0.2730752 ],\n",
       "        [ 0.58630526],\n",
       "        [ 0.24023537],\n",
       "        [ 0.1282585 ],\n",
       "        [ 0.14726737],\n",
       "        [ 0.14051509],\n",
       "        [ 0.18249528],\n",
       "        [ 0.2507327 ],\n",
       "        [ 0.15618299],\n",
       "        [ 0.2859952 ],\n",
       "        [ 0.3909928 ],\n",
       "        [ 0.18681028],\n",
       "        [-0.13069233],\n",
       "        [ 0.28575277],\n",
       "        [-0.04914304],\n",
       "        [ 0.30849198],\n",
       "        [-0.06685553],\n",
       "        [ 0.17906484],\n",
       "        [ 0.27088952],\n",
       "        [-0.08713072],\n",
       "        [ 0.15919273],\n",
       "        [-0.03085183],\n",
       "        [ 0.1768654 ],\n",
       "        [-0.05830748],\n",
       "        [-0.00523968],\n",
       "        [ 0.04710699],\n",
       "        [ 0.20146301],\n",
       "        [ 0.15750219],\n",
       "        [ 0.06118017],\n",
       "        [ 0.18653128],\n",
       "        [-0.08340073],\n",
       "        [ 0.00693387],\n",
       "        [-0.0718923 ],\n",
       "        [ 0.09842648],\n",
       "        [ 0.00277307],\n",
       "        [ 0.03222186],\n",
       "        [ 0.35279158],\n",
       "        [-0.01669971],\n",
       "        [-0.4469188 ],\n",
       "        [ 0.17977138],\n",
       "        [-0.19665997],\n",
       "        [-0.05433074],\n",
       "        [ 0.07653747],\n",
       "        [ 0.07007221],\n",
       "        [-0.01693474],\n",
       "        [ 0.13387036],\n",
       "        [ 0.13057333],\n",
       "        [ 0.07210798],\n",
       "        [ 0.19856675],\n",
       "        [-0.04055876],\n",
       "        [-0.03342366],\n",
       "        [ 0.16338675],\n",
       "        [ 0.14302798],\n",
       "        [-0.03423467],\n",
       "        [ 0.08828626],\n",
       "        [-0.08365881],\n",
       "        [-0.15640488],\n",
       "        [ 0.26558587],\n",
       "        [-0.25944123],\n",
       "        [-0.04908761],\n",
       "        [-0.06786786],\n",
       "        [-0.0164601 ],\n",
       "        [ 0.12244224],\n",
       "        [ 0.01563268],\n",
       "        [ 0.19947587],\n",
       "        [ 0.04906657],\n",
       "        [ 0.16388614],\n",
       "        [-0.08652028],\n",
       "        [ 0.25966012],\n",
       "        [-0.03933466],\n",
       "        [-0.01286118],\n",
       "        [ 0.01673123],\n",
       "        [ 0.22997186],\n",
       "        [ 0.38318405],\n",
       "        [-0.02355524],\n",
       "        [-0.10177232],\n",
       "        [ 0.12382892],\n",
       "        [ 0.00893022]], dtype=float32),\n",
       " array([0.6337714], dtype=float32)]"
      ]
     },
     "execution_count": 4,
     "metadata": {},
     "output_type": "execute_result"
    }
   ],
   "source": [
    "model.get_weights()"
   ]
  },
  {
   "cell_type": "code",
   "execution_count": 5,
   "id": "477dab8f",
   "metadata": {},
   "outputs": [],
   "source": [
    "# Step 2: Helper Functions\n",
    "# Function to decode reviews\n",
    "def decode_review(encoded_review):\n",
    "    return ' '.join([reverse_word_index.get(i - 3, '?') for i in encoded_review])\n",
    "\n",
    "# Function to preprocess user input\n",
    "def preprocess_text(text):\n",
    "    words = text.lower().split()\n",
    "    encoded_review = [word_index.get(word, 2) + 3 for word in words]\n",
    "    padded_review = sequence.pad_sequences([encoded_review], maxlen=500)\n",
    "    return padded_review"
   ]
  },
  {
   "cell_type": "code",
   "execution_count": 6,
   "id": "e0f84951",
   "metadata": {},
   "outputs": [],
   "source": [
    "### Step 3: Prediction  function\n",
    "\n",
    "def predict_sentiment(review):\n",
    "    preprocessed_input=preprocess_text(review)\n",
    "\n",
    "    prediction=model.predict(preprocessed_input)\n",
    "\n",
    "    sentiment = 'Positive' if prediction[0][0] > 0.5 else 'Negative'\n",
    "    \n",
    "    return sentiment, prediction[0][0]"
   ]
  },
  {
   "cell_type": "code",
   "execution_count": 7,
   "id": "e18aa6e8",
   "metadata": {},
   "outputs": [
    {
     "name": "stdout",
     "output_type": "stream",
     "text": [
      "\u001b[1m1/1\u001b[0m \u001b[32m━━━━━━━━━━━━━━━━━━━━\u001b[0m\u001b[37m\u001b[0m \u001b[1m0s\u001b[0m 129ms/step\n",
      "Review: This movie was fantastic! The acting was great and the plot was thrilling.\n",
      "Sentiment: Positive\n",
      "Prediction Score: 0.9472848773002625\n"
     ]
    }
   ],
   "source": [
    "# Step 4: User Input and Prediction\n",
    "# Example review for prediction\n",
    "example_review = \"This movie was fantastic! The acting was great and the plot was thrilling.\"\n",
    "\n",
    "sentiment,score=predict_sentiment(example_review)\n",
    "\n",
    "print(f'Review: {example_review}')\n",
    "print(f'Sentiment: {sentiment}')\n",
    "print(f'Prediction Score: {score}')"
   ]
  }
 ],
 "metadata": {
  "kernelspec": {
   "display_name": "venv",
   "language": "python",
   "name": "python3"
  },
  "language_info": {
   "codemirror_mode": {
    "name": "ipython",
    "version": 3
   },
   "file_extension": ".py",
   "mimetype": "text/x-python",
   "name": "python",
   "nbconvert_exporter": "python",
   "pygments_lexer": "ipython3",
   "version": "3.12.6"
  }
 },
 "nbformat": 4,
 "nbformat_minor": 5
}
